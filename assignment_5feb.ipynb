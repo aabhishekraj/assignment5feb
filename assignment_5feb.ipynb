{
 "cells": [
  {
   "cell_type": "code",
   "execution_count": null,
   "id": "e8f134c8-4a02-4001-82de-39a96366d542",
   "metadata": {},
   "outputs": [],
   "source": [
    "#Q1. Explain Class and Object with respect to Object-Oriented Programming. Give a suitable example.\n",
    "-In object-oriented programming (OOP), A class serves as a blueprint for creating multiple instances \n",
    "of objects with similar properties and functionalities, also  it defines the attributes (data) and \n",
    "behaviors (methods) that an object of that class will have.Example has been illustrated below:"
   ]
  },
  {
   "cell_type": "code",
   "execution_count": 1,
   "id": "9e06361a-9ba1-445c-885b-561e2938b524",
   "metadata": {},
   "outputs": [],
   "source": [
    "class cars:\n",
    "    def __init__(self,highest_speed,price_in_cr):\n",
    "        self.highest_speed= highest_speed\n",
    "        self.price_in_cr= price_in_cr\n",
    "        \n",
    "    def sports_car(self):\n",
    "        return \"a low small usually 2-passenger automobile designed for quick response, easy maneuverability, and high-speed driving\"\n",
    "    \n",
    "    def SUV(self):\n",
    "        return \"a fairly loose term but one that generally refers to stylish, sleek looking vehicles that offer elegant city driving but also handle rugged terrain\""
   ]
  },
  {
   "cell_type": "code",
   "execution_count": 2,
   "id": "e2e29f34-f174-4735-9271-6cdd180c47dc",
   "metadata": {},
   "outputs": [],
   "source": [
    "lamborghini_urus = cars(306, 4.18)"
   ]
  },
  {
   "cell_type": "code",
   "execution_count": 3,
   "id": "21107271-37e4-4272-94e6-33f8cf44fc6b",
   "metadata": {},
   "outputs": [
    {
     "data": {
      "text/plain": [
       "'a low small usually 2-passenger automobile designed for quick response, easy maneuverability, and high-speed driving'"
      ]
     },
     "execution_count": 3,
     "metadata": {},
     "output_type": "execute_result"
    }
   ],
   "source": [
    "lamborghini_urus.sports_car()"
   ]
  },
  {
   "cell_type": "code",
   "execution_count": 4,
   "id": "410bb6e0-2dfc-4b58-bd31-929cf51ded9d",
   "metadata": {},
   "outputs": [
    {
     "data": {
      "text/plain": [
       "'a fairly loose term but one that generally refers to stylish, sleek looking vehicles that offer elegant city driving but also handle rugged terrain'"
      ]
     },
     "execution_count": 4,
     "metadata": {},
     "output_type": "execute_result"
    }
   ],
   "source": [
    "lamborghini_urus.SUV()"
   ]
  },
  {
   "cell_type": "code",
   "execution_count": null,
   "id": "0afefc50-6f3d-483d-8144-8ef935dabae6",
   "metadata": {},
   "outputs": [],
   "source": [
    "\"\"\"in the above example, 'cars' is the class; 'highest_speed','price_in_cr' are the attributes of the cars class,\n",
    " 'sports_car','SUV' are the methods of the cars class;'lamboghini_urus' is the instance of the cars class,\n",
    " object has its own set of attributes ('highest_speed','price_in_cr') specific to that instance. We can access \n",
    " and modify these attributes for each object individually\"\"\""
   ]
  },
  {
   "cell_type": "code",
   "execution_count": null,
   "id": "2bcea32c-90ec-417c-9ced-221ddcae9377",
   "metadata": {},
   "outputs": [],
   "source": [
    "#Q2\n",
    "-The four pillars of object-oriented programming (OOP) are:\n",
    "    i.Encapsulation\n",
    "    ii.Inheritance\n",
    "    iii.Polymorphism\n",
    "    iv.Abstraction\n",
    "These four pillars of OOP provide the foundational principles and concepts for organizing and structuring code in an object-oriented manner, \n",
    "facilitating modularity, reusability, and maintainability of software systems."
   ]
  },
  {
   "cell_type": "code",
   "execution_count": null,
   "id": "884b3593-697d-4466-8c9d-d03c0acf7e3d",
   "metadata": {},
   "outputs": [],
   "source": [
    "#Q3.Explain why the __init__() function is used. Give a suitable example.\n",
    "-The __init__() function, also known as the constructor method, is used in object-oriented programming to initialize \n",
    "the attributes of an object when it is created from a class and it is automatically called when an object is instantiated \n",
    "from a class and allows for the setup and initialization of the object's initial state.\n",
    "It is illustrated by an example below."
   ]
  },
  {
   "cell_type": "code",
   "execution_count": null,
   "id": "d0853867-f1bb-4751-84ae-4a5e038c6792",
   "metadata": {},
   "outputs": [],
   "source": [
    "class cars:\n",
    "    def __init__(self,highest_speed,price_in_cr):\n",
    "        self.highest_speed= highest_speed\n",
    "        self.price_in_cr= price_in_cr\n",
    "        \n",
    "    def sports_car(self):\n",
    "        return \"a low small usually 2-passenger automobile designed for quick response, easy maneuverability, and high-speed driving\"\n",
    "    \n",
    "    def SUV(self):\n",
    "        return \"a fairly loose term but one that generally refers to stylish, sleek looking vehicles that offer elegant city driving but also handle rugged terrain\""
   ]
  },
  {
   "cell_type": "code",
   "execution_count": null,
   "id": "d7e984e6-58c6-4c67-87eb-0da2966bc9b6",
   "metadata": {},
   "outputs": [],
   "source": [
    "In the above example, '__init__' constructor is used to create a class 'cars'."
   ]
  },
  {
   "cell_type": "code",
   "execution_count": null,
   "id": "7436ec51-15f3-45dc-8618-b705760465e5",
   "metadata": {},
   "outputs": [],
   "source": [
    "#Q4.Why self is used in OOPs?\n",
    "-In object-oriented programming (OOP), the self parameter is used to refer to the instance of a class within its methods. \n",
    "It is a convention to name the first parameter of instance methods as self, although you can technically use any valid variable name.\n",
    "Example of the self usage is illustrated by the following example:"
   ]
  },
  {
   "cell_type": "code",
   "execution_count": 1,
   "id": "1a811f41-36ff-47d7-bc7b-288d99fdc05c",
   "metadata": {},
   "outputs": [],
   "source": [
    "class cars:\n",
    "    def __init__(self,highest_speed,price_in_cr):\n",
    "        self.highest_speed= highest_speed\n",
    "        self.price_in_cr= price_in_cr\n",
    "        "
   ]
  },
  {
   "cell_type": "code",
   "execution_count": null,
   "id": "ceb7f70c-1649-4cac-837b-073e775d7f10",
   "metadata": {},
   "outputs": [],
   "source": [
    "#Q5\n",
    "-Inheritance is a fundamental concept in object-oriented programming (OOP) \n",
    "that allows the creation of new classes (called child or derived classes) based on existing classes (called parent or base classes). \n",
    "The child classes inherit the attributes and behaviors of their parent classes.\n",
    "Different types of inheritance are as follows:"
   ]
  },
  {
   "cell_type": "code",
   "execution_count": 1,
   "id": "71027e31-321f-4811-9719-8cee752d190f",
   "metadata": {},
   "outputs": [],
   "source": [
    "#Single Inheritance:\n",
    "class Animal:\n",
    "    def eat(self):\n",
    "        print(\"Animal is eating.\")\n",
    "\n",
    "class Dog(Animal):\n",
    "    def bark(self):\n",
    "        print(\"Dog is barking.\")"
   ]
  },
  {
   "cell_type": "code",
   "execution_count": 3,
   "id": "47bf817d-075d-4f02-a2cc-df68783225c7",
   "metadata": {},
   "outputs": [],
   "source": [
    "my_dog = Dog()"
   ]
  },
  {
   "cell_type": "code",
   "execution_count": 4,
   "id": "e197afa6-d575-49be-89d6-05045e3bf9f5",
   "metadata": {},
   "outputs": [
    {
     "name": "stdout",
     "output_type": "stream",
     "text": [
      "Animal is eating.\n"
     ]
    }
   ],
   "source": [
    "my_dog.eat()"
   ]
  },
  {
   "cell_type": "code",
   "execution_count": 5,
   "id": "9ee91d37-b887-4c98-8e73-6383bd1d0925",
   "metadata": {},
   "outputs": [
    {
     "name": "stdout",
     "output_type": "stream",
     "text": [
      "Dog is barking.\n"
     ]
    }
   ],
   "source": [
    "my_dog.bark()"
   ]
  },
  {
   "cell_type": "code",
   "execution_count": 6,
   "id": "d5a67283-ca9a-404a-ad7d-44e777c80a4e",
   "metadata": {},
   "outputs": [],
   "source": [
    "#Multiple Inheritance:\n",
    "class Flyable:\n",
    "    def fly(self):\n",
    "        print(\"Can fly.\")\n",
    "\n",
    "class Swimmable:\n",
    "    def swim(self):\n",
    "        print(\"Can swim.\")\n",
    "\n",
    "class Duck(Flyable, Swimmable):\n",
    "    def quack(self):\n",
    "        print(\"Can quack.\")"
   ]
  },
  {
   "cell_type": "code",
   "execution_count": 8,
   "id": "a37dc38e-c745-46bd-ae9c-07e00bb33365",
   "metadata": {},
   "outputs": [],
   "source": [
    "duck = Duck()"
   ]
  },
  {
   "cell_type": "code",
   "execution_count": 10,
   "id": "d6521c3e-742a-4a81-939b-d5e2a615f65e",
   "metadata": {},
   "outputs": [
    {
     "name": "stdout",
     "output_type": "stream",
     "text": [
      "Can fly.\n"
     ]
    }
   ],
   "source": [
    "duck.fly()"
   ]
  },
  {
   "cell_type": "code",
   "execution_count": 11,
   "id": "bcb80c3e-5494-4f4a-8c3c-2c2cf0e83550",
   "metadata": {},
   "outputs": [
    {
     "name": "stdout",
     "output_type": "stream",
     "text": [
      "Can quack.\n"
     ]
    }
   ],
   "source": [
    "duck.quack()"
   ]
  },
  {
   "cell_type": "code",
   "execution_count": 12,
   "id": "abffc82a-c839-43e6-b99b-94bf3736a2dc",
   "metadata": {},
   "outputs": [
    {
     "name": "stdout",
     "output_type": "stream",
     "text": [
      "Can swim.\n"
     ]
    }
   ],
   "source": [
    "duck.swim()"
   ]
  },
  {
   "cell_type": "code",
   "execution_count": 13,
   "id": "c6f5cc84-9bbf-44a2-8bc4-891c22390884",
   "metadata": {},
   "outputs": [],
   "source": [
    "#Multilevel Inheritance:\n",
    "class Vehicle:\n",
    "    def move(self):\n",
    "        print(\"Vehicle is moving.\")\n",
    "\n",
    "class Car(Vehicle):\n",
    "    def speed(self):\n",
    "        print(\"Car is speeding.\")\n",
    "\n",
    "class SportsCar(Car):\n",
    "    def style(self):\n",
    "        print(\"Sports car is stylish.\")"
   ]
  },
  {
   "cell_type": "code",
   "execution_count": 14,
   "id": "38a8dc42-d204-4b66-ad80-a1d36070c2f5",
   "metadata": {},
   "outputs": [],
   "source": [
    "Aventador= SportsCar()"
   ]
  },
  {
   "cell_type": "code",
   "execution_count": 15,
   "id": "c5cbb3f8-5423-4288-b1b5-6b283c46b6c8",
   "metadata": {},
   "outputs": [
    {
     "name": "stdout",
     "output_type": "stream",
     "text": [
      "Vehicle is moving.\n"
     ]
    }
   ],
   "source": [
    "Aventador.move()"
   ]
  },
  {
   "cell_type": "code",
   "execution_count": 16,
   "id": "f95dc4d8-e13c-4a94-b6ba-64d3def58d30",
   "metadata": {},
   "outputs": [
    {
     "name": "stdout",
     "output_type": "stream",
     "text": [
      "Car is speeding.\n"
     ]
    }
   ],
   "source": [
    "Aventador.speed()"
   ]
  },
  {
   "cell_type": "code",
   "execution_count": 17,
   "id": "9f8de4eb-8e6f-45d1-a728-22fcfde9d9cd",
   "metadata": {},
   "outputs": [
    {
     "name": "stdout",
     "output_type": "stream",
     "text": [
      "Sports car is stylish.\n"
     ]
    }
   ],
   "source": [
    "Aventador.style()"
   ]
  },
  {
   "cell_type": "code",
   "execution_count": null,
   "id": "f3b79c5c-0e9d-4b2a-807d-5efc79350a35",
   "metadata": {},
   "outputs": [],
   "source": [
    "#Hierarchical Inheritance:\n"
   ]
  }
 ],
 "metadata": {
  "kernelspec": {
   "display_name": "Python 3 (ipykernel)",
   "language": "python",
   "name": "python3"
  },
  "language_info": {
   "codemirror_mode": {
    "name": "ipython",
    "version": 3
   },
   "file_extension": ".py",
   "mimetype": "text/x-python",
   "name": "python",
   "nbconvert_exporter": "python",
   "pygments_lexer": "ipython3",
   "version": "3.10.8"
  }
 },
 "nbformat": 4,
 "nbformat_minor": 5
}
